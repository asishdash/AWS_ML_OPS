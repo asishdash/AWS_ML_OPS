{
  "nbformat": 4,
  "nbformat_minor": 0,
  "metadata": {
    "colab": {
      "provenance": [],
      "gpuType": "T4",
      "authorship_tag": "ABX9TyMTBJ6nvCDQ0fdZUJR+FenN"
    },
    "kernelspec": {
      "name": "python3",
      "display_name": "Python 3"
    },
    "language_info": {
      "name": "python"
    },
    "accelerator": "GPU"
  },
  "cells": [
    {
      "cell_type": "code",
      "execution_count": 29,
      "metadata": {
        "id": "eQq8KSUBnGbC"
      },
      "outputs": [],
      "source": [
        "#we used RAG--> full form of RAG- Retrieval augmented generation\n",
        "\n",
        "# What are teh steps we had followed in order to create the pdf chatbot\n",
        "\n",
        "# Step 1: Upload the text document (package --> txt file reader), pdf --> require a package to read a pdf file.\n",
        "\n",
        "# step 2: Certain packages to create embeddings/encodings of the document + Query.\n",
        "\n",
        "# what were the packages used in step 2 :\n",
        "# tokenizer / DPRContextEncoder , tokenizer / DPRQuestionEncoder.\n",
        "#FAISS--> similarity search to create the context\n",
        "\n",
        "# step 3: We used openaiAPI to connect with Chatgpt 3.5 --> Key also, to play around with it.\n",
        "# what were the packages used to connect to openaiAPI\n",
        "# openai\n",
        "\n",
        "# step 4: we ran the functions to query the pdf.\n",
        "\n",
        "# langchain / huggingface Q&A pipeline--> open source models."
      ]
    },
    {
      "cell_type": "code",
      "source": [
        "#Introduction to Langchain\n",
        "#Some langchain hands on"
      ],
      "metadata": {
        "id": "vVWf6P9onKE0"
      },
      "execution_count": 30,
      "outputs": []
    },
    {
      "cell_type": "code",
      "source": [
        "!pip install  langchain"
      ],
      "metadata": {
        "colab": {
          "base_uri": "https://localhost:8080/"
        },
        "id": "etr-tK0_nUhU",
        "outputId": "1765b7e9-3728-462f-b76b-fd237187ebf1"
      },
      "execution_count": 31,
      "outputs": [
        {
          "output_type": "stream",
          "name": "stdout",
          "text": [
            "Requirement already satisfied: langchain in /usr/local/lib/python3.10/dist-packages (0.2.3)\n",
            "Requirement already satisfied: PyYAML>=5.3 in /usr/local/lib/python3.10/dist-packages (from langchain) (6.0.1)\n",
            "Requirement already satisfied: SQLAlchemy<3,>=1.4 in /usr/local/lib/python3.10/dist-packages (from langchain) (2.0.30)\n",
            "Requirement already satisfied: aiohttp<4.0.0,>=3.8.3 in /usr/local/lib/python3.10/dist-packages (from langchain) (3.9.5)\n",
            "Requirement already satisfied: async-timeout<5.0.0,>=4.0.0 in /usr/local/lib/python3.10/dist-packages (from langchain) (4.0.3)\n",
            "Requirement already satisfied: langchain-core<0.3.0,>=0.2.0 in /usr/local/lib/python3.10/dist-packages (from langchain) (0.2.5)\n",
            "Requirement already satisfied: langchain-text-splitters<0.3.0,>=0.2.0 in /usr/local/lib/python3.10/dist-packages (from langchain) (0.2.1)\n",
            "Requirement already satisfied: langsmith<0.2.0,>=0.1.17 in /usr/local/lib/python3.10/dist-packages (from langchain) (0.1.75)\n",
            "Requirement already satisfied: numpy<2,>=1 in /usr/local/lib/python3.10/dist-packages (from langchain) (1.25.2)\n",
            "Requirement already satisfied: pydantic<3,>=1 in /usr/local/lib/python3.10/dist-packages (from langchain) (2.7.3)\n",
            "Requirement already satisfied: requests<3,>=2 in /usr/local/lib/python3.10/dist-packages (from langchain) (2.31.0)\n",
            "Requirement already satisfied: tenacity<9.0.0,>=8.1.0 in /usr/local/lib/python3.10/dist-packages (from langchain) (8.3.0)\n",
            "Requirement already satisfied: aiosignal>=1.1.2 in /usr/local/lib/python3.10/dist-packages (from aiohttp<4.0.0,>=3.8.3->langchain) (1.3.1)\n",
            "Requirement already satisfied: attrs>=17.3.0 in /usr/local/lib/python3.10/dist-packages (from aiohttp<4.0.0,>=3.8.3->langchain) (23.2.0)\n",
            "Requirement already satisfied: frozenlist>=1.1.1 in /usr/local/lib/python3.10/dist-packages (from aiohttp<4.0.0,>=3.8.3->langchain) (1.4.1)\n",
            "Requirement already satisfied: multidict<7.0,>=4.5 in /usr/local/lib/python3.10/dist-packages (from aiohttp<4.0.0,>=3.8.3->langchain) (6.0.5)\n",
            "Requirement already satisfied: yarl<2.0,>=1.0 in /usr/local/lib/python3.10/dist-packages (from aiohttp<4.0.0,>=3.8.3->langchain) (1.9.4)\n",
            "Requirement already satisfied: jsonpatch<2.0,>=1.33 in /usr/local/lib/python3.10/dist-packages (from langchain-core<0.3.0,>=0.2.0->langchain) (1.33)\n",
            "Requirement already satisfied: packaging<24.0,>=23.2 in /usr/local/lib/python3.10/dist-packages (from langchain-core<0.3.0,>=0.2.0->langchain) (23.2)\n",
            "Requirement already satisfied: orjson<4.0.0,>=3.9.14 in /usr/local/lib/python3.10/dist-packages (from langsmith<0.2.0,>=0.1.17->langchain) (3.10.3)\n",
            "Requirement already satisfied: annotated-types>=0.4.0 in /usr/local/lib/python3.10/dist-packages (from pydantic<3,>=1->langchain) (0.7.0)\n",
            "Requirement already satisfied: pydantic-core==2.18.4 in /usr/local/lib/python3.10/dist-packages (from pydantic<3,>=1->langchain) (2.18.4)\n",
            "Requirement already satisfied: typing-extensions>=4.6.1 in /usr/local/lib/python3.10/dist-packages (from pydantic<3,>=1->langchain) (4.12.1)\n",
            "Requirement already satisfied: charset-normalizer<4,>=2 in /usr/local/lib/python3.10/dist-packages (from requests<3,>=2->langchain) (3.3.2)\n",
            "Requirement already satisfied: idna<4,>=2.5 in /usr/local/lib/python3.10/dist-packages (from requests<3,>=2->langchain) (3.7)\n",
            "Requirement already satisfied: urllib3<3,>=1.21.1 in /usr/local/lib/python3.10/dist-packages (from requests<3,>=2->langchain) (2.0.7)\n",
            "Requirement already satisfied: certifi>=2017.4.17 in /usr/local/lib/python3.10/dist-packages (from requests<3,>=2->langchain) (2024.6.2)\n",
            "Requirement already satisfied: greenlet!=0.4.17 in /usr/local/lib/python3.10/dist-packages (from SQLAlchemy<3,>=1.4->langchain) (3.0.3)\n",
            "Requirement already satisfied: jsonpointer>=1.9 in /usr/local/lib/python3.10/dist-packages (from jsonpatch<2.0,>=1.33->langchain-core<0.3.0,>=0.2.0->langchain) (2.4)\n"
          ]
        }
      ]
    },
    {
      "cell_type": "code",
      "source": [
        "!pip install -U langchain-community\n"
      ],
      "metadata": {
        "colab": {
          "base_uri": "https://localhost:8080/"
        },
        "id": "fIvvDVMjp2rS",
        "outputId": "b6b1f19d-28e5-414e-e966-cb16819931ab"
      },
      "execution_count": 32,
      "outputs": [
        {
          "output_type": "stream",
          "name": "stdout",
          "text": [
            "Requirement already satisfied: langchain-community in /usr/local/lib/python3.10/dist-packages (0.2.4)\n",
            "Requirement already satisfied: PyYAML>=5.3 in /usr/local/lib/python3.10/dist-packages (from langchain-community) (6.0.1)\n",
            "Requirement already satisfied: SQLAlchemy<3,>=1.4 in /usr/local/lib/python3.10/dist-packages (from langchain-community) (2.0.30)\n",
            "Requirement already satisfied: aiohttp<4.0.0,>=3.8.3 in /usr/local/lib/python3.10/dist-packages (from langchain-community) (3.9.5)\n",
            "Requirement already satisfied: dataclasses-json<0.7,>=0.5.7 in /usr/local/lib/python3.10/dist-packages (from langchain-community) (0.6.6)\n",
            "Requirement already satisfied: langchain<0.3.0,>=0.2.0 in /usr/local/lib/python3.10/dist-packages (from langchain-community) (0.2.3)\n",
            "Requirement already satisfied: langchain-core<0.3.0,>=0.2.0 in /usr/local/lib/python3.10/dist-packages (from langchain-community) (0.2.5)\n",
            "Requirement already satisfied: langsmith<0.2.0,>=0.1.0 in /usr/local/lib/python3.10/dist-packages (from langchain-community) (0.1.75)\n",
            "Requirement already satisfied: numpy<2,>=1 in /usr/local/lib/python3.10/dist-packages (from langchain-community) (1.25.2)\n",
            "Requirement already satisfied: requests<3,>=2 in /usr/local/lib/python3.10/dist-packages (from langchain-community) (2.31.0)\n",
            "Requirement already satisfied: tenacity<9.0.0,>=8.1.0 in /usr/local/lib/python3.10/dist-packages (from langchain-community) (8.3.0)\n",
            "Requirement already satisfied: aiosignal>=1.1.2 in /usr/local/lib/python3.10/dist-packages (from aiohttp<4.0.0,>=3.8.3->langchain-community) (1.3.1)\n",
            "Requirement already satisfied: attrs>=17.3.0 in /usr/local/lib/python3.10/dist-packages (from aiohttp<4.0.0,>=3.8.3->langchain-community) (23.2.0)\n",
            "Requirement already satisfied: frozenlist>=1.1.1 in /usr/local/lib/python3.10/dist-packages (from aiohttp<4.0.0,>=3.8.3->langchain-community) (1.4.1)\n",
            "Requirement already satisfied: multidict<7.0,>=4.5 in /usr/local/lib/python3.10/dist-packages (from aiohttp<4.0.0,>=3.8.3->langchain-community) (6.0.5)\n",
            "Requirement already satisfied: yarl<2.0,>=1.0 in /usr/local/lib/python3.10/dist-packages (from aiohttp<4.0.0,>=3.8.3->langchain-community) (1.9.4)\n",
            "Requirement already satisfied: async-timeout<5.0,>=4.0 in /usr/local/lib/python3.10/dist-packages (from aiohttp<4.0.0,>=3.8.3->langchain-community) (4.0.3)\n",
            "Requirement already satisfied: marshmallow<4.0.0,>=3.18.0 in /usr/local/lib/python3.10/dist-packages (from dataclasses-json<0.7,>=0.5.7->langchain-community) (3.21.3)\n",
            "Requirement already satisfied: typing-inspect<1,>=0.4.0 in /usr/local/lib/python3.10/dist-packages (from dataclasses-json<0.7,>=0.5.7->langchain-community) (0.9.0)\n",
            "Requirement already satisfied: langchain-text-splitters<0.3.0,>=0.2.0 in /usr/local/lib/python3.10/dist-packages (from langchain<0.3.0,>=0.2.0->langchain-community) (0.2.1)\n",
            "Requirement already satisfied: pydantic<3,>=1 in /usr/local/lib/python3.10/dist-packages (from langchain<0.3.0,>=0.2.0->langchain-community) (2.7.3)\n",
            "Requirement already satisfied: jsonpatch<2.0,>=1.33 in /usr/local/lib/python3.10/dist-packages (from langchain-core<0.3.0,>=0.2.0->langchain-community) (1.33)\n",
            "Requirement already satisfied: packaging<24.0,>=23.2 in /usr/local/lib/python3.10/dist-packages (from langchain-core<0.3.0,>=0.2.0->langchain-community) (23.2)\n",
            "Requirement already satisfied: orjson<4.0.0,>=3.9.14 in /usr/local/lib/python3.10/dist-packages (from langsmith<0.2.0,>=0.1.0->langchain-community) (3.10.3)\n",
            "Requirement already satisfied: charset-normalizer<4,>=2 in /usr/local/lib/python3.10/dist-packages (from requests<3,>=2->langchain-community) (3.3.2)\n",
            "Requirement already satisfied: idna<4,>=2.5 in /usr/local/lib/python3.10/dist-packages (from requests<3,>=2->langchain-community) (3.7)\n",
            "Requirement already satisfied: urllib3<3,>=1.21.1 in /usr/local/lib/python3.10/dist-packages (from requests<3,>=2->langchain-community) (2.0.7)\n",
            "Requirement already satisfied: certifi>=2017.4.17 in /usr/local/lib/python3.10/dist-packages (from requests<3,>=2->langchain-community) (2024.6.2)\n",
            "Requirement already satisfied: typing-extensions>=4.6.0 in /usr/local/lib/python3.10/dist-packages (from SQLAlchemy<3,>=1.4->langchain-community) (4.12.1)\n",
            "Requirement already satisfied: greenlet!=0.4.17 in /usr/local/lib/python3.10/dist-packages (from SQLAlchemy<3,>=1.4->langchain-community) (3.0.3)\n",
            "Requirement already satisfied: jsonpointer>=1.9 in /usr/local/lib/python3.10/dist-packages (from jsonpatch<2.0,>=1.33->langchain-core<0.3.0,>=0.2.0->langchain-community) (2.4)\n",
            "Requirement already satisfied: annotated-types>=0.4.0 in /usr/local/lib/python3.10/dist-packages (from pydantic<3,>=1->langchain<0.3.0,>=0.2.0->langchain-community) (0.7.0)\n",
            "Requirement already satisfied: pydantic-core==2.18.4 in /usr/local/lib/python3.10/dist-packages (from pydantic<3,>=1->langchain<0.3.0,>=0.2.0->langchain-community) (2.18.4)\n",
            "Requirement already satisfied: mypy-extensions>=0.3.0 in /usr/local/lib/python3.10/dist-packages (from typing-inspect<1,>=0.4.0->dataclasses-json<0.7,>=0.5.7->langchain-community) (1.0.0)\n"
          ]
        }
      ]
    },
    {
      "cell_type": "code",
      "source": [
        "!pip install pypdf"
      ],
      "metadata": {
        "colab": {
          "base_uri": "https://localhost:8080/"
        },
        "id": "Nw3BesEls8Hk",
        "outputId": "c26c1863-3ca0-44bb-c44d-57a4e9fcabe3"
      },
      "execution_count": 33,
      "outputs": [
        {
          "output_type": "stream",
          "name": "stdout",
          "text": [
            "Requirement already satisfied: pypdf in /usr/local/lib/python3.10/dist-packages (4.2.0)\n",
            "Requirement already satisfied: typing_extensions>=4.0 in /usr/local/lib/python3.10/dist-packages (from pypdf) (4.12.1)\n"
          ]
        }
      ]
    },
    {
      "cell_type": "code",
      "source": [
        "# introduction to langchain.\n",
        "# use some functions of langchain-hands on-->\n",
        "\n",
        "#langchain:\n",
        "\n",
        "# is a tool designed to help developers create applications that uses language model. --> chatbots/text analysis.\n",
        "\n",
        "# Purpose of langchain: make it easier, streamline the process.\n",
        "\n",
        "# some products of langchain -->\n",
        "\n",
        "from langchain.document_loaders import PyPDFLoader"
      ],
      "metadata": {
        "id": "dtTgjMqOqe_l"
      },
      "execution_count": 34,
      "outputs": []
    },
    {
      "cell_type": "code",
      "source": [
        "#chatpdf--> solid pdf loading system, read the tables withing pdf very well.\n",
        "# langchain--> class--> loading pdfdocuments,"
      ],
      "metadata": {
        "id": "bVk_FwxUqgw0"
      },
      "execution_count": 35,
      "outputs": []
    },
    {
      "cell_type": "code",
      "source": [
        "loader = PyPDFLoader(\"/content/sample_data/ritchie.pdf\")\n",
        "data = loader.load()\n",
        "print(data)"
      ],
      "metadata": {
        "colab": {
          "base_uri": "https://localhost:8080/"
        },
        "id": "LDG7jNkPrPxN",
        "outputId": "8c961aef-d7d7-4f7e-86ff-a0293434d1e9"
      },
      "execution_count": 36,
      "outputs": [
        {
          "output_type": "stream",
          "name": "stdout",
          "text": [
            "[Document(page_content=\"“… an excremental vision of the city and nostalgic images of  'unreconstructed' \\nforms of working- class masculinity [are] found in Guy Ritchie's films” (Dave 2006: \\n12). Discuss this statement in relation to Ritchie’s Lock, Stock and Two Smoking \\nBarrels (1998) and/or Snatch (2000).  \\n       \\n       During the period Guy Ritchie’s films were released , the British film industry was \\nseeing a shift in taste – particularly towards  the Gangster film genre  – largely  due to the \\nsimilarly shifting social climate. For some , Ritchie’s films were a godsend  (Fisher, \\n1998, cited in Chibnall, 2001)  and for others it was a debasing of traditional British \\nculture  (Appleyard, 2000 , cited in Chibnall, 2001) . Nevertheless, regardless of which  \\nstance is taken, it is hard to deny that t hese films presented “an excremental vision of \\nthe city and nostalgic images of ‘unreconstructed’ forms of working- class masculinity” \\nas Dave (2006) states. Therefore, through a textual analysis of Lock, Stock and Two \\nSmoking Barrels  (1998) this essay aims  to delve into the various methods Ritchie took \\nto achieve the verity of the above statement, as well as  why doing so was significant. \\nThe foundation for the arguments presented in this essay will largely be sourced from  \\nThe British Cinema Book  (Murphy, 2001),  with some reference to British Crime \\nCinema  (Chibnall & Murphy, 1999) ; but will also employ the help of more sociological \\narguments made by the likes of R.W. Connel l (1987)  in Gender and Power , and Linda \\nMcDowell  (2003)  in Redundant  Masculinities ?  \\n        Before any textual analysis of Lock, Stock, and Two Smoking Barrels  (LSTSB ) is \\nattempted, it is imperative that the shifting tastes in film and social climate mentioned in the introduction are discussed in order to put the film in context.  Under the rule of Margaret Thatcher the 1980s brought about new laws and changes such as the abolition of the Ea dy Levy (1985)  and the deregulation of all industry markets. Firstly, by \", metadata={'source': '/content/sample_data/ritchie.pdf', 'page': 0}), Document(page_content='removing the Eady Levy – “a tax on box office receipts in the UK ” (Wikipedia, 2019) – \\nBritish  funding for Brit ish films was extremely lacking which lead to  a heavy reliance \\non funding from the US – a rather precarious situation. Generally, major studios in the \\nUnited States preferred using Britain as a  base for their own productions over  investing \\nin indigenous British productions. However, one particular type of  British film that \\nAmerican  studios were sure would garner global success was the ‘heritage text’: films \\nthat promoted an idyllic view of what it meant to be “British” through the use of \\ngeography, characterisation, and class relations. The popularity of heritage films can be seen from the 1980s onwards. Secondly, the deregulation of markets translated to more comp etition and a rise of variety in the service sector, which further hindered the \\nalready declining manufacturing industry. This was an industry la rgely occupied by \\nworking class men so its decline meant that many found themselves unemployed, and couldn’t find re -employment  within the service sector because it was “argued that many \\nof the skills and qualities sought by employers are those stereotypic ally associated with \\nwomen”(McDowell, 2003:29). In fact from 1975 to the late 1990s the percentage of men in em ployment went down from over 92% to 80%, while the percentage of women \\nin employment increased from 59% to almost over 70% (McDowell, 2003:28). The “increasingly confident inroads into the workforce” (Monk, 1999:174) being made by women was in direct  correlation to the feminist movement promoting female liberation , \\nand which eventually gave birth to the concept of the New Man: the emotionally intelligent male who took pride in his health and appearance, shared domestic work \\nwith his wife, and even stayed at home to look after the children. Into this picture now enters the British Gangster film of the late nineties  to blow the ideals of the heritage text \\nand the New Man to complete and utter pieces.  ', metadata={'source': '/content/sample_data/ritchie.pdf', 'page': 1}), Document(page_content=' \\n       Films like LSTSB  came about at a time when  the British audience  were tiring of the \\nfalsehood that heritage texts like Four Weddings and A Funeral  (Mike Newell , 1994)  \\nwere presenting both to them and the rest of the world. One of these falsehoods was the depiction of the city of London. While in heritage texts the audience is fed a vision of “a cosy village community” “where unlikely romances can blossom” (Murphy, 2001:296-297), LSTSB  presents “a more claustrophobic village London” rife with “dodgy deals, \\nrisky opportunities, and sudden violence” ( Chibnall, 2001:283- 284). This is epitomised \\nfirst and foremost in the grimy, yellow -brown filter that colours the film, but also in the \\nhousing, the lack of nature (save for the copious amounts of marijuana) and the speech of the  characters.  The houses look haphazardly squashed t ogether, boasting of thin \\nwalls and crappy furniture. The feeling of claustrophobia is so potent that it encapsulates the entire plot as the audience comes to realise that all the characters are \\ninterlinked . Furthermore, the character vernacular of cockney rhyming adds authenticity \\nto the film, especially in the scene where subtitles are needed for the audience to understand the conversation. It   acts as a comedic trope that creates familiarity and a sense of identity for British people that can comprehend the scene sans subtitles, but without excluding the rest of the audience. By also allowing the dialogue throughout the film to be riddled with  excessive swearing  – part of the “excremental” experience – \\nRitchie moves  away from the polite and charming stereotype of the British accent  to a \\ncrasser and more brazen one.   \\n ', metadata={'source': '/content/sample_data/ritchie.pdf', 'page': 2}), Document(page_content='Inside Eddie’ s home, complete with “grimy, yellow -brown filter”  \\n \\n       Of course it can be argued that films that eschewed traditional British values and  \\ndepicted  an “excremental vision of the city” existed before the likes of LSTSB . These \\nfilms belong to the era of the British New Wave (1959 -1963) where the plight of the \\nworking- class was given a voice and the public were rooted in the reality of British life. \\nRitchie also gives the working- class a voice, albeit an incredibly male voice. W hat he \\ndoes differently, however, is  dispel the notion that everyone up north was of the \\nworking- class, poor and struggling to make ends meet while the population of the south \\nconsisted of the middle -upper class who either inherited their money or did minimal \\nlabour to earn it. But , he also does not  show a working- class that works honestly for \\ntheir money – it seems everyone is a criminal – and while his films may reflect a truer reality than the heritage texts, they certainly do not have the same amount of realism \\nthat films of the British New Wave carried. This less -than-realistic vision can be seen in \\nthe “invisibility of women”  and the use of  stylised and frequently exaggerated \\nperformances for the sake of comic effect (Chibnall, 2001).   ', metadata={'source': '/content/sample_data/ritchie.pdf', 'page': 3}), Document(page_content='       The lack of women in LSTSB  served to promote Ritchie’s focus on “the fabric of \\nmale relationships ” (Gilby quoted in Chibnall, 2001), and the hyper -masculinity of the \\ncriminal underworld. I n other words , LSTSB  is an embodiment of the New Lad culture – \\nthe antithesis of the New Man. As mentioned earlier the concept of the New Man gained \\npotency as women achieved greater independence.  Men came under a similar  type of \\nscrutiny that women had been subjected to for  centuries. Feeling the pressure of this \\nnew construction of what it meant to be masculine,   “The New Lad was constructed to reassert the patriarchal power of hegemonic masculinity destabilised by feminism, thus endorsing traditionally masculine values involving male friendship, stereotypically masculine commodities, and sexism” (Nijjar, \\n2018).   \\n \\nExamples of this in LSTSB  include the friendship between Bacon (Jason Statham ), \\nEddie  (Nick Moran) , Soap (Dexter Fletcher) , and Tom  (Jason Flemyng) ; the \\n“stereotypically masculine commodities” of cars, guns and violence; and the sexist joke made by Soap with the punch line “four spring dwarf” which is a pun derived from the slogan, “Vorsprung durch technik”, used by the  German car company Audi . \\nConsequent ly, one can see how the characterisation of the New Lad culture is an \\n“’unreconstructed’ form of...masculinity” (Dave, 2006).  \\n \\n       Besides being the playground for showcasing high levels of male bravado, why is the gangster film a perfect platform for affirming the New Lad? 1. Gangsters are more often than not from the working- class and the New Lad culture majorly – if not ', metadata={'source': '/content/sample_data/ritchie.pdf', 'page': 4}), Document(page_content='completely – belonged to the working class male.  \\n2.  Gangsters are criminals  and due to the growing unemployment of working- class men \\ncriminal activity became the only source of employment and subsequent income.  \\nIn the discussion of her film Face (1997) , another ga ngster cycle film, Bird (quoted in \\nMonk, 1999) argues that it presents “the choices that you have if you come from a \\nworking- class background in inner -city London and you’re bright...there’s no work, so \\neither you go into crime or you give in.”  This statement can also be applied to LSTSB . \\nTherefore , it is no surprise that the opening of the film introduces us to Bacon and Eddie \\nvia their criminal antics. Bacon, with the help of Eddie, is hawking stolen goods while \\nassuring his customers that , “these are not stolen, they just haven’t been paid for .” \\nRitchie actually discovered Statham selling fake jewellery and perfume on street corners (a side hustle betwe en his modelling gigs) when he decided to cast him in the role of \\nBacon  (Snider, 2015) . Art imitates life and proof is given to Chibnall’s (2001:283) \\nstatement that f or these men “all the world is gangland and the only legitimate \\noccupation is the hustle.”  Although used to describe the  lack of choice women often \\nhave as a result of the constraints of patriarchy, Jan Morris’ s phrase “opportunist \\nsubmission” (quoted in Connell, 1987) appears fitting in the above analysis as one is \\nmade to acknowledge that cri me and gang -life are the only viable enterprise in a system \\nthat deems your skills as  outdated or you as under qualified.  \\n     ', metadata={'source': '/content/sample_data/ritchie.pdf', 'page': 5}), Document(page_content=' \\n \\n \\nBacon hustling on a street corner  \\n \\n        On  the one hand, Ritchie’s portrayal of the New Lad was a source of  negative \\ncritique, a majority of which came from those of middle -class status and those i n \\nauthority such as John Abbott, director -general of the National Criminal Intelligence \\nService (Chibnall, 2001). In her examination of the policy discourses regarding young \\nmen during the 1990s McDowell (2003:63) quotes Ros Coward, who states that, “the yob” – a word synonymous with laddish culture – “is a species of young white working class male...a bogey of the Nineties, hated and feared with a startling intensity by the British middle class.” It could be argued that films such as LSTSB  lifted a veil on socio -\\neconomic issues within the fabric of Britain that many may have wanted to ignore. \\nThese were i ssues that w ere not just brought to the attention of British viewers but to \\nthe rest of world, particularly due to the fact that LSTSB  was produced and distributed ', metadata={'source': '/content/sample_data/ritchie.pdf', 'page': 6}), Document(page_content='by the American company PolyGram Filmed Entertainment, and made $28, 356, 188 \\nworldwide (IMDb, 2019). Mo reover, the distaste of Ritchie’s film from authoritative \\nbodies may be justified since he presents an “environment in which conventional paid employment has been largely eliminated, or is confined to repressive jobs such as being a policeman or a traffic warden” (Chibnall, 2001:283). The example of the dopey and \\neasily overpowered traffic warden in LSTSB  is one that renders the authority and laws \\nof the government as ineffectual, and the loose laws of the street as entirely credible.  \\n \\n   \\n \\n \\n \\n    \\n \\n \\n \\n \\nThe traffic warden before the audience if privy to his incompetency  \\n \\n       On the other hand, Ritchie perpetuates  the fabrication of h egemonic masculinity \\nand creates  a safe -haven of “’unreconstructed’ working class masculinity’  (Dave,2006)  \\nfor a lot of m en (young and old) that were feeling “threatened by women’s success” ', metadata={'source': '/content/sample_data/ritchie.pdf', 'page': 7}), Document(page_content='(McDowell, 2003: 59) . There was a demand for the traits of hegemonic masculinity  \\n to be reassured and Ritchie supplied that  demand. Morettini  (2016) asserts that: “Any \\nman that aspires to embody this masculinity must display aggressive and violent \\nbehaviour whilst restraining the flow of vulnerable emotions.” Perhaps the most ample exhibits of the truth of this statement are embod ied in the cha racters Big Chris (Vinnie \\nJones) and JD (Sting) – chosen in this case because both are fathers. Big Chris takes Little Chris (Peter McNicholl) everywhere with him and although a father -son bond is \\nimplicit, it takes the narration of Alan Ford to inform the  audience that “the only thing \\nhe cares more about than unsettled debts is his son and heir,” because after that all we see from bi g Chris are displays of anger and extreme violence – such as bashing in \\nDog’s (Frank Harper) head multiple times with a car door for being so rude. This fulfils Morettini’s criteria of “aggressive and violent behaviour”. JD fulfils the criteria of “restraining the flow of vulnerable emotions” when he does little more than bat an \\neyelash at the fact that Eddie could be killed if he refuses to give up his bar as collateral \\nfor his son’s debt. The sensitive and caring New Man has no home in this narrative. While some may argue that Ritchie simply “succumbs to the pornogra phy of violence \\nbecause it is a prerequisite for commercial s uccess” (Attenborough quoted in Chinall, \\n2001: 289), there is also the view that people “watch violent movies...because they like the feeling of being in power ” (Pace, 2013 ). Powerful is exactly what working- class \\nmen needed to feel in a shifting socio- econ omic climate that threatened to emasculate \\nthem.  ', metadata={'source': '/content/sample_data/ritchie.pdf', 'page': 8}), Document(page_content='Father, and gangster law enforcer: Big Chris  \\n       Ahead of bringing this essay to a conclusion, it is crucial to touch on how the \\nnotion of “ nostalgic images ” that Dave attached to his statement operates in LSTSB . The \\nOxford English Dictionary defines nostalgia as a “sentimental longing for...a period of the past”, and evidently LSTSB  longs for a period in the past where the “rules  of male \\nassociation were cle ar, and the penalties for their infraction draconian” (Chibnall, \\n2001:282), but possibly also a period when the country (or at least the city of London) \\nwas less influenced by diversity and thus truly “ British ”. Tom, Bacon and Soap express \\ntheir incredulity at the notion of not being able to get “a proper drink” when they go to a \\nSamoan pub: the infiltration of foreign culture. Similarly when Rory (Vas Blackwood) shouts “is this some white cunts j oke that black cunts don’t get”  at Nick the Greek \\n(Steven Marcus) he expresses a clear difference that implies  an ‘Us vs. Them’ racial \\ndivide. Nonetheless, the fact that Rory i s also an extension of the New L ad machismo,  \\nand the three friends eventually get drinks and se ttle comfortably into the ambience of \\nSamoan pub shows that  these aspects are not as alien or rejected as that of the concept \\nof the New Man . Plus, the laddish culture allows the men to voice their uncensored \\ndislike of these changes in a society that prom otes political correctness and thus \\n“Ritchie’s films provide then a kind of paradoxical politically incorrect ', metadata={'source': '/content/sample_data/ritchie.pdf', 'page': 9}), Document(page_content='multiculturalism” (Dave, 2006: 18).  \\nA displeased Rory Beaker  \\n \\n         To conclude, the British films that were prospering internationally before the \\ngangster craze era of the late nineties to early 2000s were endorsing an inaccurate and \\nlimited, yet somewhat stereotypical, portrayal of what it meant to be British . The rise of \\nthe New Man , female independence and unemployment within working- class forces \\ncreated a level of ideological insecurity within men that perhaps may have never reached such heights before.  As is the case of any  group of people/ the population that \\nfeel attacked or opp ressed they sought to defend themselves against this  new branding \\nand reclaim their identities. The prolific media of film was  just one of the ways to \\nachieve this. In other words, the male ego was in dire need of uplifting and Guy Ritchie, \\namongst others, was more than willing to provide his services as a filmmaker to do the heavy lifting – albeit by perpetuating other age -old stereotypes of masculinity such as \\naggression and lack of emotion. Nevertheles s, the analysis of Lock, Stock and Two ', metadata={'source': '/content/sample_data/ritchie.pdf', 'page': 10}), Document(page_content='Smoking Barrels through the lens of Paul Dave’s (2006) statement is a worthy example \\nof how the  embodiment of the  New Lad reinforced  hegemonic masculinity  and \\ntransformed the New Man into a myth. \\n \\nBibliography  \\n \\nChibnall, S. (2001). Travels in Ladland: The British Gangster Film Cycle, 1998- 2001. \\nIn R. Murphy (Ed.), The British Cinema Book  (pp. 281- 292). London: British Film \\nInstitute.  \\n \\nConnell, R. W. (1987). Gender & Power . Oxford: Polity Press.  \\n Dave, P. (2006). Visions  of England: Class and Culture in Contemporary Cinema. \\nRetrieved from https://books.google.co.uk/books\\n \\n Eady Levy. (2019). Wikipedia . Retrieved from https://en.wikipedia.org/wiki/Eady_L evy\\n  \\n IMDb. (2019). Lock, Stock and Two Smoking Barrels. Retrieved from https://www.imdb.com/title/tt0120735/\\n \\n \\nLock, Stock and Two Smoking Barrels. (2019). Wikipedia . Retrieved from \\nhttps://en.wikipedia.org/wiki/Lock,_Stock_and_Two_Smoking_Barrels  \\nMcDowell, L. (2003). Redundant Masculinities? Employment Change and White \\nWorking Class Youth. Oxford: Blackwe ll Publishing Ltd.  \\n \\nMonk, C. (1999). From underworld to underclass: crime and British cinema in the 1990s. In S. Chibnall & R. Murphy (Eds.), British Crime Cinema  (pp. 172- 189). \\nLondon: Routledge.   Moretinni , F.M. (2016, 27 October).  Hegemonic Masculinity: How the Dominate Man \\nSubjugates other Men, Women and Society. Global Policy Journal . Retrieved from \\nhttps://www.globalpolicyjournal.com/blog/27/10/2016/hegemonic -masculinity -how-\\ndominant -man-subjugates -other -men-women -and-society  \\nMurphy, R. (2001). City Life: Urban Fairy Tales in late 90s British Cinema. In R. Murphy (Ed.), The British Cinema Book  (pp. 292- 301). London: British Film Institute.  \\n Nijjar, J. (2018, 17 June). Mutated Masculinities: A Critical Discourse Analysis of the New Lad and the New Man in Sons of Anarchy and Ray Donovan. The Journal of Men’s Studies . Retrieved from \\nhttps://journals -sagepub-\\ncom.salford.idm.oclc.org/doi/full/10.1177/1060826518782196  \\n ', metadata={'source': '/content/sample_data/ritchie.pdf', 'page': 11}), Document(page_content='Nostalgia. (2019). Oxford English Dictionary . Retrieved from \\nhttp://www.oed.com/view/Entry/128472?redirectedFrom=nostalgia#eid  \\nPace, C. (2013, 3 April). Violence in Film. UWIRE . Retrieved from \\nhttp://go.galegroup.com.salford.idm.oclc.org/ps/i.do?&id=GALE|A556504299&v=2.1\\n&u=salcal2&it=r&p=AONE&s   \\n \\n Snider, E. D.  (2015, 18 September). 12 F ascinating Facts About Lock, Stock and Two \\nSmoking Barrels [Blog Post]. Retrieved from \\nhttp://mentalfloss.com/article/68781/12 -\\nfascinating -facts-about -lock-stock -and-two-smoking- barrels  \\n \\n \\n ', metadata={'source': '/content/sample_data/ritchie.pdf', 'page': 12})]\n"
          ]
        }
      ]
    },
    {
      "cell_type": "code",
      "source": [
        "from transformers import pipeline\n",
        "model_id = \"distilbert-base-cased-distilled-squad\"\n",
        "pipe = pipeline(\"question-answering\", model=model_id)"
      ],
      "metadata": {
        "id": "vX-Cq8c5tQX_"
      },
      "execution_count": 37,
      "outputs": []
    },
    {
      "cell_type": "code",
      "source": [
        "context = \"\"\n",
        "for el in data[:8]:\n",
        "    context += el.page_content"
      ],
      "metadata": {
        "id": "wkj68wsVtejb"
      },
      "execution_count": 38,
      "outputs": []
    },
    {
      "cell_type": "code",
      "source": [
        "questions = [\"When was Guy Ritchie born?\",\"what is his most popular film\"]"
      ],
      "metadata": {
        "id": "YiYaBVxutySv"
      },
      "execution_count": 39,
      "outputs": []
    },
    {
      "cell_type": "code",
      "source": [
        "for question in questions:\n",
        "    result = pipe({\"question\": question, \"context\": context})\n",
        "    print(f\"Question: {question}\")\n",
        "    print(f\"Answer: {result['answer']}\")\n",
        "    print(\"---\")"
      ],
      "metadata": {
        "colab": {
          "base_uri": "https://localhost:8080/"
        },
        "id": "j683exDHt7q5",
        "outputId": "d45f6c3f-71e1-4495-a4a0-2d9398c048dd"
      },
      "execution_count": 40,
      "outputs": [
        {
          "output_type": "stream",
          "name": "stdout",
          "text": [
            "Question: When was Guy Ritchie born?\n",
            "Answer: 1998\n",
            "---\n",
            "Question: what is his most popular film\n",
            "Answer: cars, guns and violence\n",
            "---\n"
          ]
        }
      ]
    },
    {
      "cell_type": "markdown",
      "source": [],
      "metadata": {
        "id": "REr0z1cJww62"
      }
    },
    {
      "cell_type": "code",
      "source": [
        "from transformers import AutoModelForQuestionAnswering, AutoTokenizer, pipeline\n",
        "\n",
        "model_name = \"deepset/roberta-base-squad2\"\n",
        "\n",
        "# a) Get predictions\n",
        "pipe_demo = pipeline('question-answering', model=model_name, tokenizer=model_name)\n",
        "\n",
        "\n",
        "# b) Load model & tokenizer\n",
        "model = AutoModelForQuestionAnswering.from_pretrained(model_name)\n",
        "tokenizer = AutoTokenizer.from_pretrained(model_name)\n",
        "\n",
        "#print(model)\n",
        "#print(tokenizer)\n",
        "\n",
        "for question in questions:\n",
        "    result = pipe_demo({\"question\": question, \"context\": context})\n",
        "    print(f\"Question: {question}\")\n",
        "    print(f\"Answer: {result['answer']}\")\n",
        "    print(\"---\")\n",
        "\n"
      ],
      "metadata": {
        "colab": {
          "base_uri": "https://localhost:8080/"
        },
        "id": "E5VxgxjnxbqQ",
        "outputId": "b21c6d58-be3a-4a78-86b9-53a853cabb2d"
      },
      "execution_count": 41,
      "outputs": [
        {
          "output_type": "stream",
          "name": "stdout",
          "text": [
            "Question: When was Guy Ritchie born?\n",
            "Answer: 1959\n",
            "---\n",
            "Question: what is his most popular film\n",
            "Answer: Snatch\n",
            "---\n"
          ]
        }
      ]
    },
    {
      "cell_type": "code",
      "source": [],
      "metadata": {
        "id": "QYpcyqWryTWZ"
      },
      "execution_count": 41,
      "outputs": []
    },
    {
      "cell_type": "code",
      "source": [
        "from transformers import AutoModelForQuestionAnswering, AutoTokenizer, pipeline\n",
        "\n",
        "model_name = \"google-bert/bert-large-uncased-whole-word-masking-finetuned-squad\"\n",
        "\n",
        "# a) Get predictions\n",
        "nlp = pipeline('question-answering', model=model_name, tokenizer=model_name)\n",
        "\n",
        "\n",
        "# b) Load model & tokenizer\n",
        "model = AutoModelForQuestionAnswering.from_pretrained(model_name)\n",
        "tokenizer = AutoTokenizer.from_pretrained(model_name)\n",
        "\n",
        "#print(model)\n",
        "#print(tokenizer)\n",
        "\n",
        "for question in questions:\n",
        "    result = nlp({\"question\": question, \"context\": context})\n",
        "    print(f\"Question: {question}\")\n",
        "    print(f\"Answer: {result['answer']}\")\n",
        "    print(\"---\")\n"
      ],
      "metadata": {
        "colab": {
          "base_uri": "https://localhost:8080/"
        },
        "id": "IKhF_jMyyyJh",
        "outputId": "854a155f-51c4-4b21-848c-66a8e39c6ad9"
      },
      "execution_count": 42,
      "outputs": [
        {
          "output_type": "stream",
          "name": "stderr",
          "text": [
            "Some weights of the model checkpoint at google-bert/bert-large-uncased-whole-word-masking-finetuned-squad were not used when initializing BertForQuestionAnswering: ['bert.pooler.dense.bias', 'bert.pooler.dense.weight']\n",
            "- This IS expected if you are initializing BertForQuestionAnswering from the checkpoint of a model trained on another task or with another architecture (e.g. initializing a BertForSequenceClassification model from a BertForPreTraining model).\n",
            "- This IS NOT expected if you are initializing BertForQuestionAnswering from the checkpoint of a model that you expect to be exactly identical (initializing a BertForSequenceClassification model from a BertForSequenceClassification model).\n",
            "Some weights of the model checkpoint at google-bert/bert-large-uncased-whole-word-masking-finetuned-squad were not used when initializing BertForQuestionAnswering: ['bert.pooler.dense.bias', 'bert.pooler.dense.weight']\n",
            "- This IS expected if you are initializing BertForQuestionAnswering from the checkpoint of a model trained on another task or with another architecture (e.g. initializing a BertForSequenceClassification model from a BertForPreTraining model).\n",
            "- This IS NOT expected if you are initializing BertForQuestionAnswering from the checkpoint of a model that you expect to be exactly identical (initializing a BertForSequenceClassification model from a BertForSequenceClassification model).\n"
          ]
        },
        {
          "output_type": "stream",
          "name": "stdout",
          "text": [
            "Question: When was Guy Ritchie born?\n",
            "Answer: 1998\n",
            "---\n",
            "Question: what is his most popular film\n",
            "Answer: LSTSB\n",
            "---\n"
          ]
        }
      ]
    }
  ]
}